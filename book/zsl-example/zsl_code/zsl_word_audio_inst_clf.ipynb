{
 "cells": [
  {
   "cell_type": "code",
   "execution_count": null,
   "id": "51f908d5",
   "metadata": {},
   "outputs": [],
   "source": [
    "import torch\n",
    "import torch.optim as optim\n",
    "from torch.utils.data import DataLoader\n",
    "from torch.optim.lr_scheduler import ReduceLROnPlateau\n",
    "\n",
    "from collections import defaultdict\n",
    "from tqdm import tqdm\n",
    "import numpy as np\n",
    "from sklearn.metrics.pairwise import cosine_similarity\n",
    "from sklearn.manifold import TSNE\n",
    "import pandas as pd\n",
    "import matplotlib.pyplot as plt\n",
    "from matplotlib import cm\n",
    "\n",
    "from model import SiameseNetwork\n",
    "from loss import TripletLoss\n",
    "from dataset import WordAudioDataset\n",
    "from data_prep import prepare_seen_unseen_data\n",
    "from transforms import get_transforms\n",
    "from model_handler import ModelHandler"
   ]
  },
  {
   "cell_type": "code",
   "execution_count": null,
   "id": "2e46999c",
   "metadata": {},
   "outputs": [],
   "source": [
    "device = torch.device(\"cuda:0\" if torch.cuda.is_available() else \"cpu\")\n",
    "\n",
    "(\n",
    "    seen_word_classes,\n",
    "    seen_audio_X_train, \n",
    "    seen_audio_y_train, \n",
    "    seen_audio_X_test, \n",
    "    seen_audio_y_test,\n",
    "    unseen_word_classes,\n",
    "    unseen_audio_X_train, \n",
    "    unseen_audio_y_train, \n",
    "    unseen_audio_X_test, \n",
    "    unseen_audio_y_test,\n",
    "    inst_word_emb_dict\n",
    ") = prepare_seen_unseen_data()"
   ]
  },
  {
   "cell_type": "code",
   "execution_count": null,
   "id": "8f39efc6",
   "metadata": {},
   "outputs": [],
   "source": [
    "siamese_network = SiameseNetwork()\n",
    "triplet_loss = TripletLoss(0.5)\n",
    "siamese_network.to(device)\n",
    "triplet_loss.to(device)"
   ]
  },
  {
   "cell_type": "code",
   "execution_count": null,
   "id": "68da995d",
   "metadata": {},
   "outputs": [],
   "source": [
    "mel_transform = get_transforms()"
   ]
  },
  {
   "cell_type": "code",
   "execution_count": null,
   "id": "4c921269",
   "metadata": {},
   "outputs": [],
   "source": [
    "seen_word_audio_dataset_tr = WordAudioDataset(\n",
    "    audio_path_list = seen_audio_X_train,\n",
    "    audio_label_list = seen_audio_y_train,\n",
    "    audio_transform = mel_transform,\n",
    "    curr_word_classes = seen_word_classes,\n",
    "    word_emb_dict = inst_word_emb_dict\n",
    ")\n",
    "seen_word_audio_dataset_ts = WordAudioDataset(\n",
    "    audio_path_list = seen_audio_X_test,\n",
    "    audio_label_list = seen_audio_y_test,\n",
    "    audio_transform = mel_transform,\n",
    "    curr_word_classes = seen_word_classes,\n",
    "    word_emb_dict = inst_word_emb_dict\n",
    ")"
   ]
  },
  {
   "cell_type": "code",
   "execution_count": null,
   "id": "139498a5",
   "metadata": {},
   "outputs": [],
   "source": [
    "seen_word_audio_dataloaders = {}\n",
    "seen_word_audio_dataloaders['train'] = DataLoader(\n",
    "    seen_word_audio_dataset_tr,\n",
    "    batch_size=16, \n",
    "    num_workers=8,\n",
    "    shuffle=True\n",
    ")\n",
    "seen_word_audio_dataloaders['test'] = DataLoader(\n",
    "    seen_word_audio_dataset_ts,\n",
    "    batch_size=16, \n",
    "    num_workers=8,\n",
    "    shuffle=True\n",
    ")"
   ]
  },
  {
   "cell_type": "code",
   "execution_count": null,
   "id": "bc4ddde2",
   "metadata": {},
   "outputs": [],
   "source": [
    "optimizer_siamese = optim.Adam(siamese_network.parameters(), lr=0.01)\n",
    "exp_lr_scheduler = ReduceLROnPlateau(\n",
    "    optimizer_siamese, \n",
    "    mode='min', \n",
    "    factor=0.2, \n",
    "    patience=5, \n",
    "    verbose=True\n",
    ")"
   ]
  },
  {
   "cell_type": "code",
   "execution_count": null,
   "id": "fa348f77",
   "metadata": {},
   "outputs": [],
   "source": [
    "curr_model = ModelHandler(\n",
    "    siamese_network, \n",
    "    triplet_loss, \n",
    "    optimizer_siamese, \n",
    "    exp_lr_scheduler, \n",
    "    device\n",
    ")"
   ]
  },
  {
   "cell_type": "code",
   "execution_count": null,
   "id": "19559d4d",
   "metadata": {},
   "outputs": [],
   "source": [
    "curr_model.train_model(\n",
    "    exp='word_audio_baseline', \n",
    "    dataloaders=seen_word_audio_dataloaders, \n",
    "    num_epochs=200\n",
    ")"
   ]
  },
  {
   "cell_type": "code",
   "execution_count": null,
   "id": "1af7fba7",
   "metadata": {},
   "outputs": [],
   "source": []
  }
 ],
 "metadata": {
  "kernelspec": {
   "display_name": "Python 3 (ipykernel)",
   "language": "python",
   "name": "python3"
  },
  "language_info": {
   "codemirror_mode": {
    "name": "ipython",
    "version": 3
   },
   "file_extension": ".py",
   "mimetype": "text/x-python",
   "name": "python",
   "nbconvert_exporter": "python",
   "pygments_lexer": "ipython3",
   "version": "3.7.11"
  }
 },
 "nbformat": 4,
 "nbformat_minor": 5
}
