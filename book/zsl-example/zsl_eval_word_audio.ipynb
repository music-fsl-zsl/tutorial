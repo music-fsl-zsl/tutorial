{
 "cells": [
  {
   "cell_type": "markdown",
   "id": "ac4bddab",
   "metadata": {},
   "source": [
    "# Word-audio ZSL evaluation\n",
    "\n",
    "To evaluate our trained model, we first construct the model and load the saved weights.\n"
   ]
  },
  {
   "cell_type": "markdown",
   "id": "39b70e68",
   "metadata": {},
   "source": [
    "## 1. Load the trained model"
   ]
  },
  {
   "cell_type": "code",
   "execution_count": 51,
   "id": "4549d299",
   "metadata": {},
   "outputs": [],
   "source": [
    "from zsl.model import WordAudioSiameseNetwork\n",
    "from zsl.loss import TripletLoss\n",
    "from zsl.dataset import WordAudioDataset\n",
    "from zsl.data_prep import prepare_zsl_split_word_audio\n",
    "from zsl.transforms import get_transforms\n",
    "from zsl.model_manager import ModelManager\n",
    "from zsl.utils import *"
   ]
  },
  {
   "cell_type": "code",
   "execution_count": 2,
   "id": "23cc541f",
   "metadata": {},
   "outputs": [],
   "source": [
    "import torch\n",
    "import torch.optim as optim\n",
    "from torch.utils.data import DataLoader\n",
    "from torch.optim.lr_scheduler import ReduceLROnPlateau"
   ]
  },
  {
   "cell_type": "code",
   "execution_count": 3,
   "id": "9f8108cb",
   "metadata": {},
   "outputs": [],
   "source": [
    "from collections import defaultdict\n",
    "from tqdm import tqdm\n",
    "import numpy as np\n",
    "import pandas as pd\n",
    "import pickle"
   ]
  },
  {
   "cell_type": "code",
   "execution_count": 4,
   "id": "83f99788",
   "metadata": {},
   "outputs": [],
   "source": [
    "device = torch.device(\"cuda:0\" if torch.cuda.is_available() else \"cpu\")\n",
    "siamese_network = WordAudioSiameseNetwork().to(device)\n",
    "triplet_loss = TripletLoss(0.5).to(device)\n",
    "_, mel_transform = get_transforms()"
   ]
  },
  {
   "cell_type": "code",
   "execution_count": 5,
   "id": "d2e006df",
   "metadata": {},
   "outputs": [],
   "source": [
    "optimizer_siamese = optim.Adam(siamese_network.parameters(), lr=0.01)\n",
    "exp_lr_scheduler = ReduceLROnPlateau(\n",
    "    optimizer_siamese, \n",
    "    mode='min', \n",
    "    factor=0.2, \n",
    "    patience=5, \n",
    "    verbose=True\n",
    ")"
   ]
  },
  {
   "cell_type": "code",
   "execution_count": 6,
   "id": "8d185a8e",
   "metadata": {},
   "outputs": [],
   "source": [
    "curr_model = ModelManager(\n",
    "    siamese_network, \n",
    "    triplet_loss, \n",
    "    optimizer_siamese, \n",
    "    exp_lr_scheduler, \n",
    "    device\n",
    ")"
   ]
  },
  {
   "cell_type": "code",
   "execution_count": 7,
   "id": "ab9b2ba6",
   "metadata": {},
   "outputs": [
    {
     "name": "stdout",
     "output_type": "stream",
     "text": [
      "Loading model done: ./checkpoints/word_audio_221129/w_ep-00195_l-0.0308.pth\n"
     ]
    }
   ],
   "source": [
    "curr_model.load_model('./checkpoints/word_audio_221129/w_ep-00195_l-0.0308.pth')"
   ]
  },
  {
   "cell_type": "markdown",
   "id": "d02f25c7",
   "metadata": {},
   "source": [
    "## 2. Prepare our data splits"
   ]
  },
  {
   "cell_type": "code",
   "execution_count": 9,
   "id": "a8ee44e7",
   "metadata": {},
   "outputs": [],
   "source": [
    "(\n",
    "    seen_word_classes,\n",
    "    seen_audio_X_train, \n",
    "    seen_audio_y_train, \n",
    "    seen_audio_X_test, \n",
    "    seen_audio_y_test,\n",
    "    unseen_word_classes,\n",
    "    unseen_audio_X_train, \n",
    "    unseen_audio_y_train, \n",
    "    unseen_audio_X_test, \n",
    "    unseen_audio_y_test,\n",
    "    inst_word_emb_dict\n",
    ") = prepare_zsl_split_word_audio()"
   ]
  },
  {
   "cell_type": "markdown",
   "id": "8f78298c",
   "metadata": {},
   "source": [
    "## 3. Seen class prediction (supervised learning)\n",
    "\n",
    "\n",
    "### 3-1) Prepare the audio and image data from the seen classes.\n"
   ]
  },
  {
   "cell_type": "code",
   "execution_count": 10,
   "id": "58c60c17",
   "metadata": {},
   "outputs": [],
   "source": [
    "seen_word_audio_dataset_tr = WordAudioDataset(\n",
    "    audio_path_list = seen_audio_X_train,\n",
    "    audio_label_list = seen_audio_y_train,\n",
    "    audio_transform = mel_transform,\n",
    "    curr_word_classes = seen_word_classes,\n",
    "    word_emb_dict = inst_word_emb_dict\n",
    ")\n",
    "seen_word_audio_dataset_ts = WordAudioDataset(\n",
    "    audio_path_list = seen_audio_X_test,\n",
    "    audio_label_list = seen_audio_y_test,\n",
    "    audio_transform = mel_transform,\n",
    "    curr_word_classes = seen_word_classes,\n",
    "    word_emb_dict = inst_word_emb_dict\n",
    ")"
   ]
  },
  {
   "cell_type": "code",
   "execution_count": 11,
   "id": "e41396eb",
   "metadata": {},
   "outputs": [],
   "source": [
    "seen_word_audio_dataloaders = {}\n",
    "seen_word_audio_dataloaders['train'] = DataLoader(\n",
    "    seen_word_audio_dataset_tr,\n",
    "    batch_size=16, \n",
    "    num_workers=8,\n",
    "    shuffle=True\n",
    ")\n",
    "seen_word_audio_dataloaders['test'] = DataLoader(\n",
    "    seen_word_audio_dataset_ts,\n",
    "    batch_size=16, \n",
    "    num_workers=8,\n",
    "    shuffle=True\n",
    ")"
   ]
  },
  {
   "cell_type": "markdown",
   "id": "7ad5dbeb",
   "metadata": {},
   "source": [
    "### 3-2) Compute the audio embeddings using ZSL model"
   ]
  },
  {
   "cell_type": "code",
   "execution_count": 12,
   "id": "d430cb05",
   "metadata": {},
   "outputs": [
    {
     "name": "stderr",
     "output_type": "stream",
     "text": [
      "100%|█████████████████████████████████████████████████████████████████████████████████████████████████████| 437/437 [00:20<00:00, 21.14it/s]"
     ]
    },
    {
     "name": "stdout",
     "output_type": "stream",
     "text": [
      "test Loss: 0.0315\n"
     ]
    },
    {
     "name": "stderr",
     "output_type": "stream",
     "text": [
      "\n"
     ]
    }
   ],
   "source": [
    "(\n",
    "    seen_ts_audio_embs, \n",
    "    seen_ts_word_embs, \n",
    "    seen_ts_labels, \n",
    "    seen_ts_loss\n",
    ") = curr_model.infer_all(seen_word_audio_dataloaders, 'test')"
   ]
  },
  {
   "cell_type": "markdown",
   "id": "305dffe6",
   "metadata": {},
   "source": [
    "### 3-3) Get the word embeddings of seen classes on the ZSL embedding space."
   ]
  },
  {
   "cell_type": "code",
   "execution_count": 17,
   "id": "146369dd",
   "metadata": {},
   "outputs": [],
   "source": [
    "seen_class_to_word_emb = dict()\n",
    "for _c in list(set(seen_audio_y_train)):\n",
    "    for i in range(seen_ts_audio_embs.shape[0]):\n",
    "        if seen_ts_labels[i] == _c:\n",
    "            seen_class_to_word_emb[_c] = seen_ts_audio_embs[i]\n",
    "            break"
   ]
  },
  {
   "cell_type": "code",
   "execution_count": 14,
   "id": "bb50b69f",
   "metadata": {},
   "outputs": [
    {
     "name": "stderr",
     "output_type": "stream",
     "text": [
      "100%|█████████████████████████████████████████████████████████████████████████████████████████████████| 437/437 [00:00<00:00, 455947.97it/s]\n"
     ]
    }
   ],
   "source": [
    "seen_class_to_word_embs = defaultdict(list)\n",
    "for i in tqdm(range(seen_ts_audio_embs.shape[0])):\n",
    "    seen_class_to_word_embs[seen_ts_labels[i]].append(seen_ts_word_embs[i])\n",
    "\n",
    "seen_class_to_mean_word_emb = {}\n",
    "for _c in seen_class_to_word_embs:\n",
    "    seen_class_to_mean_word_emb[_c] = seen_class_to_word_embs[_c][0] # same embeddings for all instances"
   ]
  },
  {
   "cell_type": "markdown",
   "id": "a7a15c70",
   "metadata": {},
   "source": [
    "### 3-4) Evaluate the test set audio on seen classes (supervised learning evaluation)"
   ]
  },
  {
   "cell_type": "code",
   "execution_count": 18,
   "id": "ddecefb5",
   "metadata": {},
   "outputs": [
    {
     "name": "stdout",
     "output_type": "stream",
     "text": [
      "Top-1 acc : 0.8283752860411899\n"
     ]
    }
   ],
   "source": [
    "correct = 0\n",
    "for idx in range(seen_ts_audio_embs.shape[0]):\n",
    "    curr_pred_indices, _ = nearest_neighbor_clf_k(np.expand_dims(seen_ts_audio_embs[idx], 0), \n",
    "                                                  seen_class_to_word_emb, \n",
    "                                                  seen_word_classes,\n",
    "                                                  1)\n",
    "    if seen_ts_labels[idx] in curr_pred_indices:\n",
    "        correct += 1\n",
    "print('Top-1 acc :', correct / seen_ts_audio_embs.shape[0])"
   ]
  },
  {
   "cell_type": "code",
   "execution_count": 19,
   "id": "ba3c2c51",
   "metadata": {},
   "outputs": [
    {
     "data": {
      "image/png": "[encoded data removed]",
      "text/plain": [
       "<Figure size 576x576 with 1 Axes>"
      ]
     },
     "metadata": {
      "needs_background": "light"
     },
     "output_type": "display_data"
    }
   ],
   "source": [
    "draw_pca(seen_ts_audio_embs, seen_ts_labels, seen_word_classes)"
   ]
  },
  {
   "cell_type": "markdown",
   "id": "6ac90688",
   "metadata": {},
   "source": [
    "## 4. Unseen class prediction\n",
    "\n",
    "### 4-1) Prepare the audio and word data from the unseen classes."
   ]
  },
  {
   "cell_type": "markdown",
   "id": "45af8555",
   "metadata": {},
   "source": [
    "Note that, unlike many works from the literature, we are not going to use train/test split for unseen labeled audios. \n",
    "\n",
    "So, we're going to merge train and test set for unseen classes."
   ]
  },
  {
   "cell_type": "code",
   "execution_count": 21,
   "id": "9acc42ae",
   "metadata": {},
   "outputs": [],
   "source": [
    "unseen_audio_X = unseen_audio_X_train + unseen_audio_X_test\n",
    "unseen_audio_y = unseen_audio_y_train + unseen_audio_y_test\n",
    "unseen_word_audio_dataset = WordAudioDataset(\n",
    "    audio_path_list = unseen_audio_X,\n",
    "    audio_label_list = unseen_audio_y,\n",
    "    audio_transform = mel_transform,\n",
    "    curr_word_classes = unseen_word_classes,\n",
    "    word_emb_dict = inst_word_emb_dict\n",
    ")"
   ]
  },
  {
   "cell_type": "code",
   "execution_count": 22,
   "id": "0818a73b",
   "metadata": {},
   "outputs": [],
   "source": [
    "unseen_word_audio_dataloaders = {}\n",
    "unseen_word_audio_dataloaders['all'] = DataLoader(\n",
    "    unseen_word_audio_dataset,\n",
    "    batch_size=16, \n",
    "    num_workers=8,\n",
    "    shuffle=False\n",
    ")"
   ]
  },
  {
   "cell_type": "markdown",
   "id": "027129d4",
   "metadata": {},
   "source": [
    "### 4-2) Compute the audio embeddings using ZSL model"
   ]
  },
  {
   "cell_type": "code",
   "execution_count": 24,
   "id": "3840f557",
   "metadata": {},
   "outputs": [
    {
     "name": "stderr",
     "output_type": "stream",
     "text": [
      "100%|█████████████████████████████████████████████████████████████████████████████████████████████████████| 738/738 [00:33<00:00, 21.85it/s]"
     ]
    },
    {
     "name": "stdout",
     "output_type": "stream",
     "text": [
      "all Loss: 0.4285\n"
     ]
    },
    {
     "name": "stderr",
     "output_type": "stream",
     "text": [
      "\n"
     ]
    }
   ],
   "source": [
    "(\n",
    "    unseen_audio_embs, \n",
    "    unseen_word_embs, \n",
    "    unseen_labels, \n",
    "    unseen_loss\n",
    ") = curr_model.infer_all(unseen_word_audio_dataloaders, 'all')"
   ]
  },
  {
   "cell_type": "markdown",
   "id": "0ebfe056",
   "metadata": {},
   "source": [
    "### 4-3) Compute the word embeddings using ZSL model"
   ]
  },
  {
   "cell_type": "code",
   "execution_count": 26,
   "id": "f12b3f8b",
   "metadata": {},
   "outputs": [],
   "source": [
    "unseen_class_to_word_emb = dict()\n",
    "for _c in list(set(unseen_audio_y)):\n",
    "    for i in range(unseen_audio_embs.shape[0]):\n",
    "        if unseen_labels[i] == _c:\n",
    "            unseen_class_to_word_emb[_c] = unseen_audio_embs[i]\n",
    "            break"
   ]
  },
  {
   "cell_type": "code",
   "execution_count": 27,
   "id": "28b87c0e",
   "metadata": {},
   "outputs": [
    {
     "data": {
      "text/plain": [
       "dict_keys([0, 1, 2, 3, 4])"
      ]
     },
     "execution_count": 27,
     "metadata": {},
     "output_type": "execute_result"
    }
   ],
   "source": [
    "unseen_class_to_word_emb.keys()"
   ]
  },
  {
   "cell_type": "markdown",
   "id": "7910ef5d",
   "metadata": {},
   "source": [
    "### 4-5) Evaluate the audios on unseen classes (zero-shot evaluation)"
   ]
  },
  {
   "cell_type": "code",
   "execution_count": 29,
   "id": "1710a700",
   "metadata": {},
   "outputs": [
    {
     "name": "stdout",
     "output_type": "stream",
     "text": [
      "Top-1 acc : 0.3807588075880759\n"
     ]
    }
   ],
   "source": [
    "correct = 0\n",
    "for idx in range(unseen_audio_embs.shape[0]):\n",
    "    curr_pred_indices, _ = nearest_neighbor_clf_k(np.expand_dims(unseen_audio_embs[idx], 0), \n",
    "                                            unseen_class_to_word_emb, \n",
    "                                            unseen_word_classes,\n",
    "                                            1)\n",
    "    if unseen_labels[idx] in curr_pred_indices:\n",
    "        correct += 1\n",
    "print('Top-1 acc :', correct / unseen_audio_embs.shape[0])"
   ]
  },
  {
   "cell_type": "code",
   "execution_count": 31,
   "id": "c2d62482",
   "metadata": {},
   "outputs": [
    {
     "data": {
      "image/png": "[encoded data removed]",
      "text/plain": [
       "<Figure size 576x576 with 1 Axes>"
      ]
     },
     "metadata": {
      "needs_background": "light"
     },
     "output_type": "display_data"
    }
   ],
   "source": [
    "draw_pca(unseen_audio_embs, unseen_labels, unseen_word_classes)"
   ]
  },
  {
   "cell_type": "markdown",
   "id": "5e5618c4",
   "metadata": {},
   "source": [
    "## 5. Generalized ZSL evaluation"
   ]
  },
  {
   "cell_type": "markdown",
   "id": "81e8ed81",
   "metadata": {},
   "source": [
    "### 5-1) Concatenate the seen and unseen classes "
   ]
  },
  {
   "cell_type": "code",
   "execution_count": 32,
   "id": "55d8a1ef",
   "metadata": {},
   "outputs": [],
   "source": [
    "all_word_classes = seen_word_classes + unseen_word_classes"
   ]
  },
  {
   "cell_type": "markdown",
   "id": "4982884f",
   "metadata": {},
   "source": [
    "### 5-2) Relabel the audios from unseen classes \n"
   ]
  },
  {
   "cell_type": "code",
   "execution_count": 40,
   "id": "58cc8d50",
   "metadata": {},
   "outputs": [],
   "source": [
    "added_unseen_labels = [_n + 9 for _n in unseen_labels]"
   ]
  },
  {
   "cell_type": "markdown",
   "id": "246df54f",
   "metadata": {},
   "source": [
    "### 5-3)  Get the word embedding vector for all classes"
   ]
  },
  {
   "cell_type": "code",
   "execution_count": 42,
   "id": "61b36cf9",
   "metadata": {},
   "outputs": [],
   "source": [
    "all_class_to_word_embs = {}\n",
    "for _c in list(seen_class_to_word_emb.keys()):\n",
    "    all_class_to_word_embs[_c] = seen_class_to_word_emb[_c]\n",
    "\n",
    "for _c in list(unseen_class_to_word_emb.keys()):\n",
    "    all_class_to_word_embs[_c+9] = unseen_class_to_word_emb[_c]"
   ]
  },
  {
   "cell_type": "markdown",
   "id": "f5776869",
   "metadata": {},
   "source": [
    "### 5-4) Evaluate the audio on seen + unseen classes (generalized zero-shot evaluation)\n",
    "\n",
    "- audio : whole set from unseen dataset\n",
    "- label : seen + unseen classes"
   ]
  },
  {
   "cell_type": "code",
   "execution_count": 37,
   "id": "071186a2",
   "metadata": {},
   "outputs": [],
   "source": [
    "all_class_to_word_embs = {}\n",
    "for _c in list(seen_class_to_word_emb.keys()):\n",
    "    all_class_to_word_embs[_c] = seen_class_to_word_emb[_c]\n",
    "\n",
    "for _c in list(unseen_class_to_word_emb.keys()):\n",
    "    all_class_to_word_embs[_c+9] = unseen_class_to_word_emb[_c]"
   ]
  },
  {
   "cell_type": "code",
   "execution_count": 49,
   "id": "18f3f684",
   "metadata": {},
   "outputs": [
    {
     "name": "stdout",
     "output_type": "stream",
     "text": [
      "Top-1 acc : 0.13143631436314362\n"
     ]
    }
   ],
   "source": [
    "correct = 0\n",
    "for idx in range(unseen_audio_embs.shape[0]):\n",
    "    curr_pred_indices, _ = nearest_neighbor_clf_k(np.expand_dims(unseen_audio_embs[idx], 0), \n",
    "                                            all_class_to_word_embs, \n",
    "                                            all_word_classes,\n",
    "                                            1)\n",
    "    if added_unseen_labels[idx] in curr_pred_indices:\n",
    "        correct += 1\n",
    "print('Top-1 acc :', correct / unseen_audio_embs.shape[0])"
   ]
  },
  {
   "cell_type": "markdown",
   "id": "69a7fee7",
   "metadata": {},
   "source": [
    "## 6. Visualize \n",
    "\n",
    "- test set seen class audio + whole set unseen class audio\n",
    "- seen + unseen classes"
   ]
  },
  {
   "cell_type": "code",
   "execution_count": 47,
   "id": "f02b2562",
   "metadata": {},
   "outputs": [],
   "source": [
    "all_audio_embs = np.concatenate([seen_ts_audio_embs, unseen_audio_embs])\n",
    "all_labels = seen_ts_labels + added_unseen_labels"
   ]
  },
  {
   "cell_type": "code",
   "execution_count": 48,
   "id": "5e481b79",
   "metadata": {},
   "outputs": [
    {
     "data": {
      "image/png": "[encoded data removed]",
      "text/plain": [
       "<Figure size 576x576 with 1 Axes>"
      ]
     },
     "metadata": {
      "needs_background": "light"
     },
     "output_type": "display_data"
    }
   ],
   "source": [
    "draw_pca(all_audio_embs, all_labels, all_word_classes)"
   ]
  }
 ],
 "metadata": {
  "kernelspec": {
   "display_name": "Python 3.7.5 64-bit",
   "language": "python",
   "name": "python3"
  },
  "language_info": {
   "codemirror_mode": {
    "name": "ipython",
    "version": 3
   },
   "file_extension": ".py",
   "mimetype": "text/x-python",
   "name": "python",
   "nbconvert_exporter": "python",
   "pygments_lexer": "ipython3",
   "version": "3.7.5"
  },
  "vscode": {
   "interpreter": {
    "hash": "fd69f43f58546b570e94fd7eba7b65e6bcc7a5bbc4eab0408017d18902915d69"
   }
  }
 },
 "nbformat": 4,
 "nbformat_minor": 5
}
