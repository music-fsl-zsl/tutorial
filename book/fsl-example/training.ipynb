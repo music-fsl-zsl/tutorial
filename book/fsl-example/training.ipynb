{
 "cells": [
  {
   "cell_type": "code",
   "execution_count": null,
   "metadata": {},
   "outputs": [],
   "source": []
  }
 ],
 "metadata": {
  "kernelspec": {
   "display_name": "Python 3.8.15 ('hugo')",
   "language": "python",
   "name": "python3"
  },
  "language_info": {
   "name": "python",
   "version": "3.8.15"
  },
  "orig_nbformat": 4,
  "vscode": {
   "interpreter": {
    "hash": "ec27501cbbac6acacfd09d8db1502718360d0cdb5a917685adcae650b3d3518d"
   }
  }
 },
 "nbformat": 4,
 "nbformat_minor": 2
}
