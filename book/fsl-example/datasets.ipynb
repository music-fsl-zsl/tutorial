{
 "cells": [
  {
   "cell_type": "markdown",
   "metadata": {},
   "source": [
    "# Datasets\n",
    "\n",
    "This chapter will learn how to build few-shot learning episodes from a musical instrument recognition dataset. \n",
    "\n",
    "In particular, we will be using the [TinySOL](https://zenodo.org/record/3685367) dataset, which is a collection of recordings of 14 musical instruments playing a single musical note. We will use the [mirdata](https://github.com/mir-dataset-loaders/mirdata) library to load the TinySOL dataset. \n",
    "\n",
    "We will then implement an Episodic Sampler, which will be used to sample support and query sets for each episode, from the TinySOL dataset."
   ]
  },
  {
   "cell_type": "markdown",
   "metadata": {},
   "source": [
    "## Making a Class Conditional Dataset\n",
    "\n",
    "In order to be able to sample episodes with that contain an given number of classes as well as a given number of examples per class, we need to create a dataset class that lets us load examples from a given class."
   ]
  },
  {
   "cell_type": "code",
   "execution_count": null,
   "metadata": {},
   "outputs": [],
   "source": []
  },
  {
   "cell_type": "markdown",
   "metadata": {},
   "source": [
    "In order to create episodes later on, we need to create a dataset class that lets us load an item for a specific class. "
   ]
  }
 ],
 "metadata": {
  "language_info": {
   "name": "python"
  },
  "orig_nbformat": 4
 },
 "nbformat": 4,
 "nbformat_minor": 2
}
