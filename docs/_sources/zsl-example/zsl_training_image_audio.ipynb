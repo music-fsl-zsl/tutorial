{
 "cells": [
  {
   "cell_type": "markdown",
   "id": "e644254b",
   "metadata": {},
   "source": [
    "# Image-audio ZSL training"
   ]
  },
  {
   "cell_type": "code",
   "execution_count": 2,
   "id": "562a2f43",
   "metadata": {},
   "outputs": [],
   "source": [
    "from model import ImageAudioSiameseNetwork\n",
    "from loss import TripletLoss\n",
    "from dataset import ImageAudioDataset\n",
    "from data_prep import prepare_zsl_split_img_audio\n",
    "from transforms import get_transforms\n",
    "from model_manager import ModelManager"
   ]
  },
  {
   "cell_type": "code",
   "execution_count": 3,
   "id": "3025266b",
   "metadata": {},
   "outputs": [],
   "source": [
    "import torch\n",
    "import torch.optim as optim\n",
    "from torch.utils.data import DataLoader\n",
    "from torch.optim.lr_scheduler import ReduceLROnPlateau"
   ]
  },
  {
   "cell_type": "code",
   "execution_count": 4,
   "id": "110af79e",
   "metadata": {},
   "outputs": [],
   "source": [
    "(\n",
    "    seen_img_classes,\n",
    "    seen_img_path,\n",
    "    seen_img_label,\n",
    "    seen_audio_X_train, \n",
    "    seen_audio_y_train, \n",
    "    seen_audio_X_test, \n",
    "    seen_audio_y_test,\n",
    "    unseen_img_classes,\n",
    "    unseen_img_path,\n",
    "    unseen_img_label,\n",
    "    unseen_audio_X_train, \n",
    "    unseen_audio_y_train, \n",
    "    unseen_audio_X_test, \n",
    "    unseen_audio_y_test,\n",
    ") = prepare_zsl_split_img_audio()"
   ]
  },
  {
   "cell_type": "code",
   "execution_count": 6,
   "id": "0e02da0a",
   "metadata": {},
   "outputs": [],
   "source": [
    "device = torch.device(\"cuda:0\" if torch.cuda.is_available() else \"cpu\")\n",
    "siamese_network = ImageAudioSiameseNetwork().to(device)\n",
    "triplet_loss = TripletLoss(0.5).to(device)\n",
    "img_transforms, mel_transform = get_transforms()"
   ]
  },
  {
   "cell_type": "code",
   "execution_count": 7,
   "id": "1925e6e2",
   "metadata": {},
   "outputs": [],
   "source": [
    "seen_img_audio_dataset_tr = ImageAudioDataset(\n",
    "    audio_path_list = seen_audio_X_train,\n",
    "    audio_label_list = seen_audio_y_train,\n",
    "    img_path_list = seen_img_path,\n",
    "    img_label_list = seen_img_label,\n",
    "    img_class_list = seen_img_classes,\n",
    "    audio_transform = mel_transform,\n",
    "    img_transform = img_transforms['train']\n",
    ")\n",
    "seen_img_audio_dataset_ts = ImageAudioDataset(\n",
    "    audio_path_list = seen_audio_X_test,\n",
    "    audio_label_list = seen_audio_y_test,\n",
    "    img_path_list = seen_img_path,\n",
    "    img_label_list = seen_img_label,\n",
    "    img_class_list = seen_img_classes,\n",
    "    audio_transform = mel_transform,\n",
    "    img_transform = img_transforms['test']\n",
    ")"
   ]
  },
  {
   "cell_type": "code",
   "execution_count": 8,
   "id": "5000a7ce",
   "metadata": {},
   "outputs": [],
   "source": [
    "seen_img_audio_dataloaders = {}\n",
    "seen_img_audio_dataloaders['train'] = DataLoader(\n",
    "    seen_img_audio_dataset_tr,\n",
    "    batch_size=16, \n",
    "    num_workers=8,\n",
    "    shuffle=True\n",
    ")\n",
    "seen_img_audio_dataloaders['test'] = DataLoader(\n",
    "    seen_img_audio_dataset_ts,\n",
    "    batch_size=16, \n",
    "    num_workers=8,\n",
    "    shuffle=False\n",
    ")"
   ]
  },
  {
   "cell_type": "code",
   "execution_count": 10,
   "id": "4c4bf8df",
   "metadata": {},
   "outputs": [],
   "source": [
    "curr_model = ModelManager(\n",
    "    siamese_network, \n",
    "    triplet_loss, \n",
    "    device\n",
    ")"
   ]
  },
  {
   "cell_type": "code",
   "execution_count": null,
   "id": "fdd58d27",
   "metadata": {},
   "outputs": [],
   "source": [
    "curr_model.train_model(\n",
    "    exp='img_audio', \n",
    "    dataloaders=seen_img_audio_dataloaders, \n",
    "    validation='random', \n",
    "    num_epochs=200\n",
    ")"
   ]
  }
 ],
 "metadata": {
  "kernelspec": {
   "display_name": "Python 3 (ipykernel)",
   "language": "python",
   "name": "python3"
  },
  "language_info": {
   "codemirror_mode": {
    "name": "ipython",
    "version": 3
   },
   "file_extension": ".py",
   "mimetype": "text/x-python",
   "name": "python",
   "nbconvert_exporter": "python",
   "pygments_lexer": "ipython3",
   "version": "3.7.11"
  }
 },
 "nbformat": 4,
 "nbformat_minor": 5
}
