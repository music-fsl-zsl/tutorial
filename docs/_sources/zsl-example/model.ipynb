{
 "cells": [
  {
   "cell_type": "markdown",
   "id": "51dae5fd",
   "metadata": {},
   "source": [
    "# Models and data I/O"
   ]
  },
  {
   "cell_type": "markdown",
   "id": "6be80a33",
   "metadata": {},
   "source": [
    "Here we look into our siamese network architecture. The siamese network is designed to take outputs from two different branches and project the outputs onto a common embedding space following the metric learning scheme with a distance loss function. In our case, it is composed of an audio encoder branch and a side information embedding branch. \n"
   ]
  },
  {
   "cell_type": "markdown",
   "id": "af669e77",
   "metadata": {},
   "source": [
    "### 1) Audio encoder\n",
    "\n",
    "For our two experiments (word-audio and image-audio), we use the same structure for the audio encoder. The audio encoder is a 2D convolutional network that takes mel-spectrograms as inputs. It is a common architecture used for music classification or tagging tasks. \n"
   ]
  },
  {
   "cell_type": "code",
   "execution_count": null,
   "id": "4923bb2e",
   "metadata": {},
   "outputs": [],
   "source": [
    "class MelCNN(nn.Module):\n",
    "    def __init__(self, emb_dim):\n",
    "        super(MelCNN, self).__init__()\n",
    "\n",
    "        # Spectrogram normalization\n",
    "        self.spec_bn = nn.BatchNorm2d(1)\n",
    "\n",
    "        # CNN : input (1, 63 * N, 80) / kernel size (3x3)\n",
    "        self.layer1 = Conv_2d(1, 64, pooling=(1,2))\n",
    "        self.layer2 = Conv_2d(64, 128, pooling=(3,4))\n",
    "        self.layer3 = Conv_2d(128, 128, pooling=(7,5))\n",
    "        self.layer4 = Conv_2d(128, 128, pooling=(3,2))\n",
    "        self.pool = torch.nn.AdaptiveAvgPool2d(1)\n",
    "\n",
    "    def forward(self, x):\n",
    "        x = self.spec_bn(x)\n",
    "        x = self.layer1(x)        \n",
    "        x = self.layer2(x)\n",
    "        x = self.layer3(x)\n",
    "        x = self.layer4(x)\n",
    "        x = self.pool(x)\n",
    "        return x\n",
    "    \n",
    "class Conv_2d(nn.Module):\n",
    "    def __init__(self, input_channels, output_channels, shape=3, stride=1, pooling=2):\n",
    "        super(Conv_2d, self).__init__()\n",
    "        self.conv2d = nn.Conv2d(input_channels, output_channels, shape, stride=stride, padding=shape//2)\n",
    "        self.bn = nn.BatchNorm2d(output_channels)\n",
    "        self.relu = nn.ReLU()\n",
    "        self.pool = nn.MaxPool2d(pooling)\n",
    "    def forward(self, x):\n",
    "        out = self.pool(self.relu(self.bn(self.conv2d(x))))\n",
    "        return out"
   ]
  },
  {
   "cell_type": "markdown",
   "id": "fb7644a2",
   "metadata": {},
   "source": [
    "### 2) Word embedding model\n",
    "\n",
    "For the word embedding model, as we just take the precomputed vectors for each class, we don't need an extra pretrained model. We directly feed in the 300 dimensional word embedding vectors that had been trained with GloVe model. \n"
   ]
  },
  {
   "cell_type": "markdown",
   "id": "f16056d4",
   "metadata": {},
   "source": [
    "### 3) Word-audio siamese network\n",
    "\n",
    "For the word-audio experiment, we build a siamese network that take the output vectors of the audio encoder and the word embedding vectors. We add a projection layer, which is a single fully-connected layer with a sigmoid function, to each of the audio encoder output and the word embeddings. "
   ]
  },
  {
   "cell_type": "code",
   "execution_count": null,
   "id": "ee73a88c",
   "metadata": {},
   "outputs": [],
   "source": [
    "class WordAudioSiameseNetwork(nn.Module):\n",
    "    def __init__(\n",
    "        self\n",
    "    ) -> None:\n",
    "        super().__init__()\n",
    "        \n",
    "        self.audio_model = MelCNN(128)\n",
    "        self.audio_projection = nn.Linear(in_features=128, out_features=128, bias=True)\n",
    "        self.word_projection = nn.Linear(in_features=300, out_features=128, bias=True)\n",
    "        \n",
    "    def forward(self, x_audio, pos_word, neg_word):\n",
    "        x_audio = self.audio_model(x_audio)\n",
    "        x_audio = torch.squeeze(x_audio, dim=-1)\n",
    "        x_audio = torch.squeeze(x_audio, dim=-1)\n",
    "        x_audio = nn.Sigmoid()(self.audio_projection(x_audio))\n",
    "        \n",
    "        x_word_pos = nn.Sigmoid()(self.word_projection(pos_word))\n",
    "        x_word_neg = nn.Sigmoid()(self.word_projection(neg_word))\n",
    "        \n",
    "        return x_audio, x_word_pos, x_word_neg"
   ]
  },
  {
   "cell_type": "markdown",
   "id": "1ecf99d1",
   "metadata": {},
   "source": [
    "The triplet loss is then computed between the outputs from the projection layers to guide the model to properly learn the common embedding space. For that reason, we feed one audio embedding vector, one positive word embedding that the input audio is annotated with, and one negative word embedding that is sampled among all unrelated labels uniformly at random. "
   ]
  },
  {
   "cell_type": "code",
   "execution_count": null,
   "id": "66b40498",
   "metadata": {},
   "outputs": [],
   "source": [
    "class TripletLoss(nn.Module):\n",
    "    def __init__(self, margin):\n",
    "        super(TripletLoss, self).__init__()\n",
    "        self.margin = margin\n",
    "        self.relu = nn.ReLU()\n",
    "\n",
    "    def forward(self, anchor, positive, negative, size_average=True):\n",
    "        cosine_positive = nn.CosineSimilarity(dim=-1)(anchor, positive)\n",
    "        cosine_negative = nn.CosineSimilarity(dim=-1)(anchor, negative)\n",
    "        losses = self.relu(self.margin - cosine_positive + cosine_negative)\n",
    "        return losses.mean()"
   ]
  },
  {
   "cell_type": "markdown",
   "id": "f4589143",
   "metadata": {},
   "source": [
    "### 4) Image encoder\n",
    "\n",
    "The image encoder we use for the image-audio ZSL experiment is a Resnet-101 architecture that is pretrained to classify a large-sized image dataset, ImageNet. \n",
    "\n",
    "We remove the last layer of the pretrained model and use the outputs of the second last layer. \n"
   ]
  },
  {
   "cell_type": "markdown",
   "id": "b5a309cc",
   "metadata": {},
   "source": [
    "### 5) Image-audio siamese network\n",
    "\n",
    "The only difference of the image-audio siamese network from the word-audio model is that it uses the pretrained image classification model instead of directly feeding embedding vectors. "
   ]
  },
  {
   "cell_type": "code",
   "execution_count": null,
   "id": "7237f6e7",
   "metadata": {},
   "outputs": [],
   "source": [
    "class ImageAudioSiameseNetwork(nn.Module):\n",
    "    def __init__(\n",
    "        self\n",
    "    ) -> None:\n",
    "        super().__init__()\n",
    "\n",
    "        self.audio_model = MelCNN(128)\n",
    "        self.audio_projection = nn.Linear(in_features=128, out_features=128, bias=True)\n",
    "\n",
    "        # Using a pretrained resnet101 image classification model as a backbone.\n",
    "        visual_model = torchvision.models.resnet101(pretrained=True)\n",
    "        layers = list(visual_model.children())\n",
    "        self.visual_model = nn.Sequential(*layers[:-1])\n",
    "        for _m in self.visual_model.children():\n",
    "            for param in _m.parameters():\n",
    "                param.requires_grad = False\n",
    "        self.visual_projection = nn.Linear(in_features=2048, out_features=128, bias=True)\n",
    "                \n",
    "    def forward(self, x_audio, pos_img, neg_img):\n",
    "        x_audio = nn.Sigmoid()(self.audio_model(x_audio))\n",
    "        x_audio = torch.squeeze(x_audio, dim=-1)\n",
    "        x_audio = torch.squeeze(x_audio, dim=-1)\n",
    "        x_audio = nn.Sigmoid()(self.audio_projection(x_audio))\n",
    "\n",
    "        pos_img = nn.Sigmoid()(self.visual_model(pos_img))\n",
    "        pos_img = torch.squeeze(pos_img, dim=-1)\n",
    "        pos_img = torch.squeeze(pos_img, dim=-1)\n",
    "        x_img_pos = nn.Sigmoid()(self.visual_projection(pos_img))\n",
    "        \n",
    "        neg_img = nn.Sigmoid()(self.visual_model(neg_img))\n",
    "        neg_img = torch.squeeze(neg_img, dim=-1)\n",
    "        neg_img = torch.squeeze(neg_img, dim=-1)\n",
    "        x_img_neg = nn.Sigmoid()(self.visual_projection(neg_img))\n",
    "        \n",
    "        return x_audio, x_img_pos, x_img_neg"
   ]
  },
  {
   "cell_type": "markdown",
   "id": "9028f2de",
   "metadata": {},
   "source": [
    "### Data transform\n",
    "\n",
    "The audio and image data needs some transformation before being fed to the siamese network. For the image data, we do basic augmentation techniques such as cropping and normalizing. For the audio data, we apply the mel-spectrogram transformation procedure on the fly.  "
   ]
  },
  {
   "cell_type": "code",
   "execution_count": null,
   "id": "5b2f8417",
   "metadata": {},
   "outputs": [],
   "source": [
    "def get_transforms():\n",
    "    img_transforms = {\n",
    "        'train': transforms.Compose([\n",
    "            transforms.RandomResizedCrop(224),\n",
    "            transforms.RandomHorizontalFlip(),\n",
    "            transforms.ToTensor(),\n",
    "            transforms.Normalize([0.485, 0.456, 0.406], [0.229, 0.224, 0.225])\n",
    "        ]),\n",
    "        'test': transforms.Compose([\n",
    "            transforms.Resize(256),\n",
    "            transforms.CenterCrop(224),\n",
    "            transforms.ToTensor(),\n",
    "            transforms.Normalize([0.485, 0.456, 0.406], [0.229, 0.224, 0.225])\n",
    "        ]),\n",
    "    }\n",
    "\n",
    "    SAMPLING_RATE = 16000\n",
    "    N_FFT = 512\n",
    "    HOP_LENGTH = 256\n",
    "    N_MELS = 80\n",
    "    EPS = 1e-10\n",
    "    mel_transform = Compose(\n",
    "        [\n",
    "            MelSpectrogram(\n",
    "                sample_rate=SAMPLING_RATE,\n",
    "                n_fft=N_FFT,\n",
    "                hop_length=HOP_LENGTH,\n",
    "                n_mels=N_MELS,\n",
    "            ),\n",
    "            Lambda(lambda x: x.clamp(min=EPS)),\n",
    "            AmplitudeToDB(stype='power', top_db=80.),\n",
    "            Lambda(lambda x: x / 80.),\n",
    "            Lambda(lambda x: x.transpose(1, 0)),  # (F, T) -> (T, F)\n",
    "        ]\n",
    "    )\n",
    "\n",
    "    return img_transforms, mel_transform"
   ]
  }
 ],
 "metadata": {
  "kernelspec": {
   "display_name": "Python 3 (ipykernel)",
   "language": "python",
   "name": "python3"
  },
  "language_info": {
   "codemirror_mode": {
    "name": "ipython",
    "version": 3
   },
   "file_extension": ".py",
   "mimetype": "text/x-python",
   "name": "python",
   "nbconvert_exporter": "python",
   "pygments_lexer": "ipython3",
   "version": "3.7.11"
  }
 },
 "nbformat": 4,
 "nbformat_minor": 5
}
