{
 "cells": [
  {
   "cell_type": "markdown",
   "id": "f7718cc7",
   "metadata": {},
   "source": [
    "# Word-audio ZSL training\n",
    "\n",
    "Using the code snippets we prepared in previous stages, we now can train our model. \n",
    "(Note that, when training a gradient-based metric learning models, we often find that the model convergence is quite sensitive to the hyperparameters.)"
   ]
  },
  {
   "cell_type": "code",
   "execution_count": 2,
   "id": "243d6139",
   "metadata": {},
   "outputs": [],
   "source": [
    "from model import WordAudioSiameseNetwork\n",
    "from loss import TripletLoss\n",
    "from dataset import WordAudioDataset\n",
    "from data_prep import prepare_zsl_split_word_audio\n",
    "from transforms import get_transforms\n",
    "from model_manager import ModelManager"
   ]
  },
  {
   "cell_type": "code",
   "execution_count": 3,
   "id": "0bffd410",
   "metadata": {},
   "outputs": [],
   "source": [
    "import torch\n",
    "import torch.optim as optim\n",
    "from torch.utils.data import DataLoader\n",
    "from torch.optim.lr_scheduler import ReduceLROnPlateau"
   ]
  },
  {
   "cell_type": "code",
   "execution_count": 4,
   "id": "45a1c7f6",
   "metadata": {},
   "outputs": [],
   "source": [
    "(\n",
    "    seen_word_classes,\n",
    "    seen_audio_X_train, \n",
    "    seen_audio_y_train, \n",
    "    seen_audio_X_test, \n",
    "    seen_audio_y_test,\n",
    "    unseen_word_classes,\n",
    "    unseen_audio_X_train, \n",
    "    unseen_audio_y_train, \n",
    "    unseen_audio_X_test, \n",
    "    unseen_audio_y_test,\n",
    "    inst_word_emb_dict\n",
    ") = prepare_zsl_split_word_audio()"
   ]
  },
  {
   "cell_type": "code",
   "execution_count": 5,
   "id": "28c9fac5",
   "metadata": {},
   "outputs": [],
   "source": [
    "device = torch.device(\"cuda:0\" if torch.cuda.is_available() else \"cpu\")\n",
    "siamese_network = WordAudioSiameseNetwork().to(device)\n",
    "triplet_loss = TripletLoss(0.5).to(device)\n",
    "_, mel_transform = get_transforms()"
   ]
  },
  {
   "cell_type": "code",
   "execution_count": 7,
   "id": "f2a23238",
   "metadata": {},
   "outputs": [],
   "source": [
    "seen_word_audio_dataset_tr = WordAudioDataset(\n",
    "    audio_path_list = seen_audio_X_train,\n",
    "    audio_label_list = seen_audio_y_train,\n",
    "    audio_transform = mel_transform,\n",
    "    curr_word_classes = seen_word_classes,\n",
    "    word_emb_dict = inst_word_emb_dict\n",
    ")\n",
    "seen_word_audio_dataset_ts = WordAudioDataset(\n",
    "    audio_path_list = seen_audio_X_test,\n",
    "    audio_label_list = seen_audio_y_test,\n",
    "    audio_transform = mel_transform,\n",
    "    curr_word_classes = seen_word_classes,\n",
    "    word_emb_dict = inst_word_emb_dict\n",
    ")"
   ]
  },
  {
   "cell_type": "code",
   "execution_count": 8,
   "id": "010ad37e",
   "metadata": {},
   "outputs": [],
   "source": [
    "seen_word_audio_dataloaders = {}\n",
    "seen_word_audio_dataloaders['train'] = DataLoader(\n",
    "    seen_word_audio_dataset_tr,\n",
    "    batch_size=16, \n",
    "    num_workers=8,\n",
    "    shuffle=True\n",
    ")\n",
    "seen_word_audio_dataloaders['test'] = DataLoader(\n",
    "    seen_word_audio_dataset_ts,\n",
    "    batch_size=16, \n",
    "    num_workers=8,\n",
    "    shuffle=True\n",
    ")"
   ]
  },
  {
   "cell_type": "code",
   "execution_count": 9,
   "id": "30e0b8ec",
   "metadata": {},
   "outputs": [],
   "source": [
    "optimizer_siamese = optim.Adam(siamese_network.parameters(), lr=0.01)\n",
    "exp_lr_scheduler = ReduceLROnPlateau(\n",
    "    optimizer_siamese, \n",
    "    mode='min', \n",
    "    factor=0.2, \n",
    "    patience=5, \n",
    "    verbose=True\n",
    ")"
   ]
  },
  {
   "cell_type": "code",
   "execution_count": 10,
   "id": "7f64fe9f",
   "metadata": {},
   "outputs": [],
   "source": [
    "curr_model = ModelManager(\n",
    "    siamese_network, \n",
    "    triplet_loss, \n",
    "    optimizer_siamese, \n",
    "    exp_lr_scheduler, \n",
    "    device\n",
    ")"
   ]
  },
  {
   "cell_type": "code",
   "execution_count": null,
   "id": "a4b055d3",
   "metadata": {},
   "outputs": [],
   "source": [
    "curr_model.train_model(\n",
    "    exp='word_audio', \n",
    "    dataloaders=seen_word_audio_dataloaders, \n",
    "    validation='random', \n",
    "    num_epochs=200\n",
    ")"
   ]
  }
 ],
 "metadata": {
  "kernelspec": {
   "display_name": "Python 3 (ipykernel)",
   "language": "python",
   "name": "python3"
  },
  "language_info": {
   "codemirror_mode": {
    "name": "ipython",
    "version": 3
   },
   "file_extension": ".py",
   "mimetype": "text/x-python",
   "name": "python",
   "nbconvert_exporter": "python",
   "pygments_lexer": "ipython3",
   "version": "3.7.11"
  }
 },
 "nbformat": 4,
 "nbformat_minor": 5
}
