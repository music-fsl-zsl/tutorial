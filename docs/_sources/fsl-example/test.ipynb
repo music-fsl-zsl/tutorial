{
 "cells": [
  {
   "cell_type": "code",
   "execution_count": null,
   "id": "6e216be1",
   "metadata": {},
   "outputs": [],
   "source": [
    "episode_idx = 5\n",
    "\n",
    "subtable = [d for d in embedding_table if d[\"episode_idx\"] == episode_idx]\n",
    "\n",
    "fig = embedding_plot(\n",
    "    proj=np.stack([d[\"embedding\"] for d in subtable]),\n",
    "    color_labels=[d[\"label\"] for d in subtable],\n",
    "    marker_labels=[d[\"marker\"] for d in subtable],\n",
    "    title=f\"episode {episode_idx} -- embeddings\",\n",
    ")\n",
    "fig.show()"
   ]
  }
 ],
 "metadata": {
  "kernelspec": {
   "display_name": "Python 3 (ipykernel)",
   "language": "python",
   "name": "python3"
  },
  "language_info": {
   "codemirror_mode": {
    "name": "ipython",
    "version": 3
   },
   "file_extension": ".py",
   "mimetype": "text/x-python",
   "name": "python",
   "nbconvert_exporter": "python",
   "pygments_lexer": "ipython3",
   "version": "3.8.15"
  }
 },
 "nbformat": 4,
 "nbformat_minor": 5
}
